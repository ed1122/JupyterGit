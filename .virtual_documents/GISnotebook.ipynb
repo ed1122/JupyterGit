


import geopandas as gpd 
import matplotlib.pyplot as plt


FILE =  r"Shape _Wetland_Sabana_Centro\Humedales_Sabana_Centro_Final.shp"

gdf = gpd.read_file(FILE)



gdf.explore()


fields = gdf.columns
print(fields)



